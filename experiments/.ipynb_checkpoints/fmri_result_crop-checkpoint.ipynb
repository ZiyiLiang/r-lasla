{
 "cells": [
  {
   "cell_type": "code",
   "execution_count": 7,
   "id": "2ca7b8ce-60f9-4524-80ef-b0ffb3e0f200",
   "metadata": {},
   "outputs": [],
   "source": [
    "import plotly.graph_objects as go\n",
    "import numpy as np\n",
    "import pandas as pd\n",
    "import os\n",
    "\n",
    "fig_dir = \"../pics/\"\n",
    "results_dir = \"../results/\""
   ]
  },
  {
   "cell_type": "code",
   "execution_count": 2,
   "id": "40d07f69-87fc-4422-9577-32728b3a8fce",
   "metadata": {},
   "outputs": [],
   "source": [
    "from PIL import Image"
   ]
  },
  {
   "cell_type": "code",
   "execution_count": 17,
   "id": "892b8be1-befd-4f41-b7b6-795d7b9af07a",
   "metadata": {},
   "outputs": [
    {
     "name": "stdout",
     "output_type": "stream",
     "text": [
      "Cropped image saved at: C:/Users/liang/Documents/GitHub/r-lasla/pics/fmri_bh.png\n",
      "Cropped image saved at: C:/Users/liang/Documents/GitHub/r-lasla/pics/fmri_lasla.png\n"
     ]
    }
   ],
   "source": [
    "def center_crop(image_path, output_path, crop_width, crop_height):\n",
    "    \"\"\"\n",
    "    Center crop the image.\n",
    "\n",
    "    Parameters:\n",
    "    - image_path: str, path to the input image\n",
    "    - output_path: str, path to save the cropped image\n",
    "    - crop_width: int, the width of the crop box\n",
    "    - crop_height: int, the height of the crop box\n",
    "    \"\"\"\n",
    "    image = Image.open(image_path)\n",
    "    img_width, img_height = image.size\n",
    "    \n",
    "    # Calculate the coordinates of the top-left corner of the crop box\n",
    "    left = (img_width - crop_width) / 2-50\n",
    "    top = (img_height - crop_height) / 2+50\n",
    "    right = (img_width + crop_width) / 2+50\n",
    "    bottom = (img_height + crop_height) / 2+50\n",
    "    \n",
    "    # Perform the crop\n",
    "    cropped_image = image.crop((left, top, right, bottom))\n",
    "\n",
    "    cropped_image.save(output_path)\n",
    "    print(f\"Cropped image saved at: {output_path}\")\n",
    "\n",
    "# Example usage:\n",
    "# Path to your screenshots\n",
    "image_path_1 = \"C:/Users/liang/Documents/GitHub/r-lasla/pics/bh.png\"\n",
    "image_path_2 = \"C:/Users/liang/Documents/GitHub/r-lasla/pics/lasla.png\"\n",
    "\n",
    "# Path to save cropped images\n",
    "output_path_1 = \"C:/Users/liang/Documents/GitHub/r-lasla/pics/fmri_bh.png\"\n",
    "output_path_2 = \"C:/Users/liang/Documents/GitHub/r-lasla/pics/fmri_lasla.png\"\n",
    "\n",
    "# Desired crop dimensions\n",
    "crop_width = 480  # Replace with your desired width\n",
    "crop_height = 520  # Replace with your desired height\n",
    "\n",
    "\n",
    "# Perform center cropping\n",
    "center_crop(image_path_1, output_path_1, crop_width, crop_height)\n",
    "center_crop(image_path_2, output_path_2, crop_width, crop_height)"
   ]
  },
  {
   "cell_type": "code",
   "execution_count": null,
   "id": "20e6e014-4b6b-45a1-b3f1-27ffc067797e",
   "metadata": {},
   "outputs": [],
   "source": []
  }
 ],
 "metadata": {
  "kernelspec": {
   "display_name": "Python 3 (ipykernel)",
   "language": "python",
   "name": "python3"
  },
  "language_info": {
   "codemirror_mode": {
    "name": "ipython",
    "version": 3
   },
   "file_extension": ".py",
   "mimetype": "text/x-python",
   "name": "python",
   "nbconvert_exporter": "python",
   "pygments_lexer": "ipython3",
   "version": "3.11.7"
  }
 },
 "nbformat": 4,
 "nbformat_minor": 5
}
